{
 "cells": [
  {
   "cell_type": "markdown",
   "metadata": {},
   "source": [
    "# U.S. Medical Insurance Costs"
   ]
  },
  {
   "cell_type": "markdown",
   "metadata": {},
   "source": [
    "1. Find out the average age of the patients in the dataset.\n",
    "2. Analyze where a majority of the individuals are from.\n",
    "3. Look at the different costs between smokers vs. non-smokers.\n",
    " * What is average age of smoking patients\n",
    " * How much smokers among all patients\n",
    "4. Figure out what the average age is for someone who has at least one child in this dataset.\n",
    " * Find how much parents in dataset (people, having at least one child), find statisc of numbers of children\n",
    "6. Analyze bmi vs cost and bmi vs age\n"
   ]
  },
  {
   "cell_type": "markdown",
   "metadata": {},
   "source": [
    "0. Import"
   ]
  },
  {
   "cell_type": "code",
   "execution_count": 20,
   "metadata": {},
   "outputs": [],
   "source": [
    "import pandas as pd\n",
    "import numpy as np\n",
    "import matplotlib.pyplot as plt"
   ]
  },
  {
   "cell_type": "code",
   "execution_count": 2,
   "metadata": {},
   "outputs": [],
   "source": [
    "df = pd.read_csv('insurance.csv')\n"
   ]
  },
  {
   "cell_type": "code",
   "execution_count": 3,
   "metadata": {},
   "outputs": [
    {
     "name": "stdout",
     "output_type": "stream",
     "text": [
      "   age     sex     bmi  children smoker     region      charges\n",
      "0   19  female  27.900         0    yes  southwest  16884.92400\n",
      "1   18    male  33.770         1     no  southeast   1725.55230\n",
      "2   28    male  33.000         3     no  southeast   4449.46200\n",
      "3   33    male  22.705         0     no  northwest  21984.47061\n",
      "4   32    male  28.880         0     no  northwest   3866.85520\n"
     ]
    }
   ],
   "source": [
    "print(df.head())"
   ]
  },
  {
   "cell_type": "markdown",
   "metadata": {},
   "source": [
    "1.Find out the average age of the patients in the dataset."
   ]
  },
  {
   "cell_type": "markdown",
   "metadata": {},
   "source": [
    "Average age of the patients is:"
   ]
  },
  {
   "cell_type": "code",
   "execution_count": 8,
   "metadata": {},
   "outputs": [
    {
     "name": "stdout",
     "output_type": "stream",
     "text": [
      "39.20702541106129\n"
     ]
    }
   ],
   "source": [
    "print(np.average(df.age))"
   ]
  },
  {
   "cell_type": "code",
   "execution_count": 15,
   "metadata": {},
   "outputs": [
    {
     "name": "stdout",
     "output_type": "stream",
     "text": [
      "Age of the patients is between : 18 and 64. While average is 39\n"
     ]
    }
   ],
   "source": [
    "print('Age of the patients is between : {} and {}. While average is {}'.format(df.age.min(),df.age.max(),round(np.average(df.age))))"
   ]
  },
  {
   "cell_type": "markdown",
   "metadata": {},
   "source": [
    "2. Analyze where a majority of the individuals are from."
   ]
  },
  {
   "cell_type": "code",
   "execution_count": 33,
   "metadata": {},
   "outputs": [
    {
     "name": "stdout",
     "output_type": "stream",
     "text": [
      "region\n",
      "northeast    324\n",
      "northwest    325\n",
      "southeast    364\n",
      "southwest    325\n",
      "Name: age, dtype: int64\n"
     ]
    }
   ],
   "source": [
    "region = df.groupby('region')['age'].count()\n",
    "print(region)"
   ]
  },
  {
   "cell_type": "code",
   "execution_count": 35,
   "metadata": {},
   "outputs": [],
   "source": [
    "region_name = ['North East','North West','South East','South West']"
   ]
  },
  {
   "cell_type": "code",
   "execution_count": 41,
   "metadata": {},
   "outputs": [
    {
     "data": {
      "image/png": "[encoded data removed]",
      "text/plain": [
       "<Figure size 432x288 with 1 Axes>"
      ]
     },
     "metadata": {},
     "output_type": "display_data"
    }
   ],
   "source": [
    "plt.pie(region, labels = region_name,autopct='%1.1f%%')\n",
    "plt.title('Patients are from regions:')\n",
    "plt.show()"
   ]
  },
  {
   "cell_type": "markdown",
   "metadata": {},
   "source": [
    "3.Look at the different costs between smokers vs. non-smokers.\n",
    "\n",
    "What is average age of smoking patients.\n",
    "\n",
    "How much smokers among all patients."
   ]
  },
  {
   "cell_type": "code",
   "execution_count": 50,
   "metadata": {},
   "outputs": [],
   "source": [
    "smokers = df[df['smoker']=='yes']\n",
    "nonsmokers = df[df['smoker']=='no']\n"
   ]
  },
  {
   "cell_type": "code",
   "execution_count": 51,
   "metadata": {},
   "outputs": [
    {
     "data": {
      "text/html": [
       "<div>\n",
       "<style scoped>\n",
       "    .dataframe tbody tr th:only-of-type {\n",
       "        vertical-align: middle;\n",
       "    }\n",
       "\n",
       "    .dataframe tbody tr th {\n",
       "        vertical-align: top;\n",
       "    }\n",
       "\n",
       "    .dataframe thead th {\n",
       "        text-align: right;\n",
       "    }\n",
       "</style>\n",
       "<table border=\"1\" class=\"dataframe\">\n",
       "  <thead>\n",
       "    <tr style=\"text-align: right;\">\n",
       "      <th></th>\n",
       "      <th>age</th>\n",
       "      <th>sex</th>\n",
       "      <th>bmi</th>\n",
       "      <th>children</th>\n",
       "      <th>smoker</th>\n",
       "      <th>region</th>\n",
       "      <th>charges</th>\n",
       "    </tr>\n",
       "  </thead>\n",
       "  <tbody>\n",
       "    <tr>\n",
       "      <th>0</th>\n",
       "      <td>19</td>\n",
       "      <td>female</td>\n",
       "      <td>27.90</td>\n",
       "      <td>0</td>\n",
       "      <td>yes</td>\n",
       "      <td>southwest</td>\n",
       "      <td>16884.9240</td>\n",
       "    </tr>\n",
       "    <tr>\n",
       "      <th>11</th>\n",
       "      <td>62</td>\n",
       "      <td>female</td>\n",
       "      <td>26.29</td>\n",
       "      <td>0</td>\n",
       "      <td>yes</td>\n",
       "      <td>southeast</td>\n",
       "      <td>27808.7251</td>\n",
       "    </tr>\n",
       "    <tr>\n",
       "      <th>14</th>\n",
       "      <td>27</td>\n",
       "      <td>male</td>\n",
       "      <td>42.13</td>\n",
       "      <td>0</td>\n",
       "      <td>yes</td>\n",
       "      <td>southeast</td>\n",
       "      <td>39611.7577</td>\n",
       "    </tr>\n",
       "    <tr>\n",
       "      <th>19</th>\n",
       "      <td>30</td>\n",
       "      <td>male</td>\n",
       "      <td>35.30</td>\n",
       "      <td>0</td>\n",
       "      <td>yes</td>\n",
       "      <td>southwest</td>\n",
       "      <td>36837.4670</td>\n",
       "    </tr>\n",
       "    <tr>\n",
       "      <th>23</th>\n",
       "      <td>34</td>\n",
       "      <td>female</td>\n",
       "      <td>31.92</td>\n",
       "      <td>1</td>\n",
       "      <td>yes</td>\n",
       "      <td>northeast</td>\n",
       "      <td>37701.8768</td>\n",
       "    </tr>\n",
       "  </tbody>\n",
       "</table>\n",
       "</div>"
      ],
      "text/plain": [
       "    age     sex    bmi  children smoker     region     charges\n",
       "0    19  female  27.90         0    yes  southwest  16884.9240\n",
       "11   62  female  26.29         0    yes  southeast  27808.7251\n",
       "14   27    male  42.13         0    yes  southeast  39611.7577\n",
       "19   30    male  35.30         0    yes  southwest  36837.4670\n",
       "23   34  female  31.92         1    yes  northeast  37701.8768"
      ]
     },
     "execution_count": 51,
     "metadata": {},
     "output_type": "execute_result"
    }
   ],
   "source": [
    "smokers.head()"
   ]
  },
  {
   "cell_type": "code",
   "execution_count": 69,
   "metadata": {},
   "outputs": [
    {
     "name": "stdout",
     "output_type": "stream",
     "text": [
      "Average cost of insurance  for smokers is 32050$, while it is 8434$ for non smoking people.\n",
      "So difference is 23616$.      And it is in 4 times more expencive for smokers\n",
      "While there is 20.5% people that smokes in our dataset.\n"
     ]
    }
   ],
   "source": [
    "cost_sm = np.average(smokers.charges)\n",
    "cost_nsm = np.average(nonsmokers.charges)\n",
    "print('Average cost of insurance  for smokers is {}$, while it is {}$ for non smoking people.\\nSo difference is {}$.\\\n",
    "      And it is in {} times more expencive for smokers'\n",
    "      .format(round(cost_sm),round(cost_nsm),round(cost_sm-cost_nsm),round(cost_sm/cost_nsm)))\n",
    "print('While there is {:.1%} people that smokes in our dataset.'.format(len(smokers)/len(df)))\n"
   ]
  },
  {
   "cell_type": "code",
   "execution_count": null,
   "metadata": {},
   "outputs": [],
   "source": [
    "print(np.average(smokers.age))"
   ]
  },
  {
   "cell_type": "markdown",
   "metadata": {},
   "source": [
    "4. Figure out what the average age is for someone who has at least one child in this dataset.\n",
    "Find how much parents in dataset (people, having at least one child), find statisc of numbers of children."
   ]
  },
  {
   "cell_type": "code",
   "execution_count": 72,
   "metadata": {},
   "outputs": [],
   "source": [
    "parents = df[df['children']!=0]"
   ]
  },
  {
   "cell_type": "code",
   "execution_count": 73,
   "metadata": {},
   "outputs": [
    {
     "name": "stdout",
     "output_type": "stream",
     "text": [
      "   age     sex    bmi  children smoker     region    charges\n",
      "1   18    male  33.77         1     no  southeast  1725.5523\n",
      "2   28    male  33.00         3     no  southeast  4449.4620\n",
      "6   46  female  33.44         1     no  southeast  8240.5896\n",
      "7   37  female  27.74         3     no  northwest  7281.5056\n",
      "8   37    male  29.83         2     no  northeast  6406.4107\n"
     ]
    }
   ],
   "source": [
    "print(parents.head())"
   ]
  },
  {
   "cell_type": "code",
   "execution_count": 74,
   "metadata": {},
   "outputs": [
    {
     "name": "stdout",
     "output_type": "stream",
     "text": [
      "There is 57.1% people that have kids in our dataset.\n"
     ]
    }
   ],
   "source": [
    "print('There is {:.1%} people that have kids in our dataset.'.format(len(parents)/len(df)))"
   ]
  },
  {
   "cell_type": "code",
   "execution_count": 85,
   "metadata": {},
   "outputs": [
    {
     "name": "stdout",
     "output_type": "stream",
     "text": [
      "39.78010471204188\n"
     ]
    }
   ],
   "source": [
    "print(np.average(parents.age))"
   ]
  },
  {
   "cell_type": "code",
   "execution_count": 98,
   "metadata": {},
   "outputs": [
    {
     "name": "stdout",
     "output_type": "stream",
     "text": [
      "Average age is 39.8 for parents, 39.5 if they have 1 child, 39.4 - 2 children, 3: 41.6, 4: 39.0, 5:35.6\n"
     ]
    }
   ],
   "source": [
    "print('Average age is {:.1f} for parents, {:.1f} if they have 1 child, {:.1f} - 2 children, 3: {:.1f}, 4: {:.1f}, 5:{:.1f}'\n",
    "      .format(np.average(parents.age), np.average(parents[parents['children']==1].age),np.average(parents[parents['children']==2].age),\\\n",
    "             np.average(parents[parents['children']==3].age),np.average(parents[parents['children']==4].age),np.average(parents[parents['children']==5].age)))\n"
   ]
  },
  {
   "cell_type": "code",
   "execution_count": 79,
   "metadata": {},
   "outputs": [],
   "source": [
    "have_children = df.groupby(['children']).count().age"
   ]
  },
  {
   "cell_type": "code",
   "execution_count": 84,
   "metadata": {},
   "outputs": [
    {
     "data": {
      "image/png": "[encoded data removed]",
      "text/plain": [
       "<Figure size 432x288 with 1 Axes>"
      ]
     },
     "metadata": {},
     "output_type": "display_data"
    }
   ],
   "source": [
    "plt.pie(have_children, labels = ['without children','1 child','2 children','3children',4,5],autopct='%1.f%%')\n",
    "plt.title('Patients with children:')\n",
    "plt.show()"
   ]
  },
  {
   "cell_type": "markdown",
   "metadata": {},
   "source": [
    "5. Analyze bmi vs cost and bmi vs age\n"
   ]
  },
  {
   "cell_type": "code",
   "execution_count": 167,
   "metadata": {},
   "outputs": [],
   "source": [
    "df_bmi20 = df[df['bmi']<=20]\n",
    "df_bmi30 = df[(df['bmi']<=30)& (df['bmi']>20)]\n",
    "df_bmi40 = df[(df['bmi']<=40)& (df['bmi']>30)]\n",
    "df_bmi50 = df[(df['bmi']<=50)& (df['bmi']>40)]\n",
    "\n",
    "df_bmi60 = df[(df['bmi']>50)]"
   ]
  },
  {
   "cell_type": "code",
   "execution_count": 114,
   "metadata": {},
   "outputs": [
    {
     "name": "stdout",
     "output_type": "stream",
     "text": [
      "     age     sex     bmi  children smoker     region      charges\n",
      "28    23    male  17.385         1     no  northwest   2775.19215\n",
      "98    56    male  19.950         0    yes  northeast  22412.64850\n",
      "99    38    male  19.300         0    yes  southwest  15820.69900\n",
      "128   32  female  17.765         2    yes  northwest  32734.18630\n",
      "169   27    male  18.905         3     no  northeast   4827.90495\n"
     ]
    }
   ],
   "source": [
    "print(df_bmi20.head())"
   ]
  },
  {
   "cell_type": "code",
   "execution_count": 168,
   "metadata": {},
   "outputs": [
    {
     "name": "stdout",
     "output_type": "stream",
     "text": [
      "8838.561135121952\n",
      "10849.646837380067\n",
      "15379.565214592836\n",
      "16810.19430261364\n",
      "16034.305366666667\n"
     ]
    }
   ],
   "source": [
    "print(np.average(df_bmi20.charges))\n",
    "print(np.average(df_bmi30.charges))\n",
    "print(np.average(df_bmi40.charges))\n",
    "print(np.average(df_bmi50.charges))\n",
    "print(np.average(df_bmi60.charges))"
   ]
  },
  {
   "cell_type": "code",
   "execution_count": 170,
   "metadata": {},
   "outputs": [
    {
     "name": "stdout",
     "output_type": "stream",
     "text": [
      "33.73170731707317\n",
      "38.211148648648646\n",
      "40.328990228013026\n",
      "41.25\n",
      "21.0\n"
     ]
    }
   ],
   "source": [
    "print(np.average(df_bmi20.age))\n",
    "print(np.average(df_bmi30.age))\n",
    "print(np.average(df_bmi40.age))\n",
    "print(np.average(df_bmi50.age))\n",
    "print(np.average(df_bmi60.age))\n"
   ]
  },
  {
   "cell_type": "code",
   "execution_count": 180,
   "metadata": {},
   "outputs": [
    {
     "data": {
      "image/png": "[encoded data removed]",
      "text/plain": [
       "<Figure size 432x288 with 1 Axes>"
      ]
     },
     "metadata": {
      "needs_background": "light"
     },
     "output_type": "display_data"
    }
   ],
   "source": [
    "plt.bar([20,30,40,50,60],[33.7,38.2,40.3,41.25,21],width = 2)\n",
    "plt.bar([22,32,42,52,62],[8.84,10.8,15.4,16.8,16],width = 2)\n",
    "plt.show()"
   ]
  },
  {
   "cell_type": "markdown",
   "metadata": {},
   "source": []
  }
 ],
 "metadata": {
  "kernelspec": {
   "display_name": "Python 3",
   "language": "python",
   "name": "python3"
  },
  "language_info": {
   "codemirror_mode": {
    "name": "ipython",
    "version": 3
   },
   "file_extension": ".py",
   "mimetype": "text/x-python",
   "name": "python",
   "nbconvert_exporter": "python",
   "pygments_lexer": "ipython3",
   "version": "3.7.7"
  }
 },
 "nbformat": 4,
 "nbformat_minor": 4
}
